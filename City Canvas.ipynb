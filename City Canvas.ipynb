{
 "cells": [
  {
   "cell_type": "markdown",
   "metadata": {},
   "source": [
    "The purpose of this notebook is to \n",
    "\n",
    "* establish a two-level reference system for analysing city demographics\n",
    "* provide a stylized infrastructure for use in generating synthetic data\n",
    "* enable graphical display of a city and its parts\n",
    "* provide a reference architecture for further expansion in notebooks or libraries"
   ]
  },
  {
   "cell_type": "markdown",
   "metadata": {},
   "source": [
    "# Imports"
   ]
  },
  {
   "cell_type": "code",
   "execution_count": 135,
   "metadata": {},
   "outputs": [],
   "source": [
    "import numpy as np\n",
    "from random import randrange, random\n",
    "from scipy.spatial import Voronoi, voronoi_plot_2d\n",
    "import matplotlib.pyplot as plt\n",
    "from shapely.geometry import Point\n",
    "from shapely.geometry.polygon import Polygon"
   ]
  },
  {
   "cell_type": "markdown",
   "metadata": {},
   "source": [
    "# Constants"
   ]
  },
  {
   "cell_type": "code",
   "execution_count": 136,
   "metadata": {},
   "outputs": [],
   "source": [
    "GRD = 10  # what are the dimensions of the symmetrical grid containing the buurten\n",
    "          # there will be GRD*GRD buurten as a result\n",
    "RES = 10  # what is the resolution in pixels of each grid cell\n",
    "NUM = 10  # how many higher level entities, wijken"
   ]
  },
  {
   "cell_type": "markdown",
   "metadata": {},
   "source": [
    "# Functional Requirements"
   ]
  },
  {
   "cell_type": "markdown",
   "metadata": {},
   "source": [
    "## Requirements"
   ]
  },
  {
   "cell_type": "markdown",
   "metadata": {},
   "source": [
    "The requirements for the lower-level detail of the city is that: \n",
    "* The low-level parts of the city are called and represent buurten.\n",
    "* The buurten should be represented as a 2D array.\n",
    "* Each grid cell should be indexed by its grid centroid. \n",
    "* The low-level grid should store one thing -- a single type representing its residents.\n",
    "* The full grid should be able to be drawn using polygons.\n",
    "\n",
    "The requirements for the higher-level of the city is that\n",
    "* The high-level parts of the city are called and represent wijken.\n",
    "* The wijken should be represented as polygons of variable sizes.\n",
    "* The wijken of the city should be stored, and be iterable in a list.\n",
    "* There should be a separation of concerns between the wijken and their graphic representation.\n",
    "* Each wijk should be able to be drawn using polygons.\n",
    "\n",
    "The joint requirements for the low and the high level of the city is that\n",
    "* The buurten and the wijken should be made easily extensible so that they may be used for more realistic cases.\n",
    "* Each wijk should have a list of all the buurten it contains."
   ]
  },
  {
   "cell_type": "markdown",
   "metadata": {},
   "source": [
    "## Functions"
   ]
  },
  {
   "cell_type": "code",
   "execution_count": 143,
   "metadata": {},
   "outputs": [],
   "source": [
    "# this creates the grid/buurten\n",
    "def create_grid():\n",
    "    x = np.arange(0, GRD, 1)\n",
    "    y = np.arange(0, GRD, 1)\n",
    "    alist = [[(i+.5,j+.5) for j in y] for i in x]\n",
    "    arr=np.array(alist,'f,f')\n",
    "    \n",
    "    return arr\n",
    "        \n",
    "# these create the high-level regions, the wijken\n",
    "def create_regions():\n",
    "    points = []\n",
    "    for  i in range(NUM):\n",
    "        x = random()*GRD\n",
    "        y = random()*GRD\n",
    "        coord = [x,y]\n",
    "        points.append(coord)\n",
    "    pt_array = np.array(points)\n",
    "    vor = Voronoi(points,furthest_site = False)\n",
    "    return pt_array, vor\n",
    "\n",
    "# this displays the regions\n",
    "def display_polygons(points,vor):\n",
    "    boundary = np.array([[0, 0], [0, 10], [10, 10], [10,0]])\n",
    "\n",
    "    x, y = boundary.T\n",
    "    plt.xlim(round(x.min() - 1), round(x.max() + 1))\n",
    "    plt.ylim(round(y.min() - 1), round(y.max() + 1))\n",
    "    #plt.plot(points,'b.')\n",
    "    #print(points.shape)\n",
    "    plt.plot(*points.T, 'b.')\n",
    "\n",
    "    diameter = np.linalg.norm(boundary.ptp(axis=0))\n",
    "    boundary_polygon = Polygon(boundary)\n",
    "    poly_list = []\n",
    "    \n",
    "    for p in voronoi_polygons(Voronoi(points), diameter):\n",
    "        a  = p.intersection(boundary_polygon).exterior.coords\n",
    "        x, y = zip(*a)\n",
    "    \n",
    "        poly = Polygon(a)\n",
    "        poly_list.append(poly)\n",
    "        plt.plot(x, y, 'r-')\n",
    "\n",
    "    plt.show()\n",
    "    return poly_list\n",
    "\n",
    "# pass the grid array to this\n",
    "# needs to be stored at the wijk-level\n",
    "def assign_grid2poly(arr,poly_list):\n",
    "    for n,k in enumerate(poly_list):\n",
    "        for i in range(GRD):\n",
    "            for j in range(GRD):\n",
    "                p = Point(arr[i,j])\n",
    " \n",
    "                if (k.contains(p)):\n",
    "                    print(n,i,j)\n",
    "             "
   ]
  },
  {
   "cell_type": "markdown",
   "metadata": {},
   "source": [
    "# Example Use"
   ]
  },
  {
   "cell_type": "code",
   "execution_count": 145,
   "metadata": {},
   "outputs": [
    {
     "data": {
      "image/png": "[encoded data removed]",
      "text/plain": [
       "<Figure size 432x288 with 1 Axes>"
      ]
     },
     "metadata": {
      "needs_background": "light"
     },
     "output_type": "display_data"
    },
    {
     "name": "stdout",
     "output_type": "stream",
     "text": [
      "0 3 9\n",
      "0 4 8\n",
      "0 4 9\n",
      "0 5 8\n",
      "0 5 9\n",
      "0 6 8\n",
      "0 6 9\n",
      "0 7 9\n",
      "0 8 9\n",
      "0 9 9\n",
      "1 3 4\n",
      "1 3 5\n",
      "1 3 6\n",
      "1 4 4\n",
      "1 4 5\n",
      "1 4 6\n",
      "1 4 7\n",
      "1 5 4\n",
      "1 5 5\n",
      "1 5 6\n",
      "2 0 5\n",
      "2 0 6\n",
      "2 0 7\n",
      "2 1 5\n",
      "2 1 6\n",
      "2 1 7\n",
      "2 2 5\n",
      "2 2 6\n",
      "2 2 7\n",
      "2 2 8\n",
      "2 3 7\n",
      "2 3 8\n",
      "3 5 7\n",
      "3 6 6\n",
      "3 6 7\n",
      "3 7 7\n",
      "3 7 8\n",
      "3 8 7\n",
      "3 8 8\n",
      "3 9 7\n",
      "3 9 8\n",
      "4 5 1\n",
      "4 5 2\n",
      "4 5 3\n",
      "4 6 0\n",
      "4 6 1\n",
      "4 6 2\n",
      "4 7 0\n",
      "5 3 0\n",
      "5 3 1\n",
      "5 3 2\n",
      "5 3 3\n",
      "5 4 0\n",
      "5 4 1\n",
      "5 4 2\n",
      "5 4 3\n",
      "5 5 0\n",
      "6 6 3\n",
      "6 6 4\n",
      "6 7 1\n",
      "6 7 2\n",
      "6 7 3\n",
      "6 8 0\n",
      "6 8 1\n",
      "6 8 2\n",
      "6 8 3\n",
      "6 9 0\n",
      "6 9 1\n",
      "6 9 2\n",
      "6 9 3\n",
      "7 0 0\n",
      "7 0 1\n",
      "7 0 2\n",
      "7 0 3\n",
      "7 0 4\n",
      "7 1 0\n",
      "7 1 1\n",
      "7 1 2\n",
      "7 1 3\n",
      "7 1 4\n",
      "7 2 0\n",
      "7 2 1\n",
      "7 2 2\n",
      "7 2 3\n",
      "7 2 4\n",
      "8 0 8\n",
      "8 0 9\n",
      "8 1 8\n",
      "8 1 9\n",
      "8 2 9\n",
      "9 6 5\n",
      "9 7 4\n",
      "9 7 5\n",
      "9 7 6\n",
      "9 8 4\n",
      "9 8 5\n",
      "9 8 6\n",
      "9 9 4\n",
      "9 9 5\n",
      "9 9 6\n"
     ]
    }
   ],
   "source": [
    "# create the buurten\n",
    "arr=create_grid()\n",
    "\n",
    "# create the data for the wijken\n",
    "points, vor = create_regions()\n",
    "\n",
    "# display the wijken using polygons\n",
    "poly_list = display_polygons(points,vor)\n",
    "\n",
    "# enumerate the buurten and declare their respective wijken\n",
    "assign_grid2poly(arr,poly_list)"
   ]
  }
 ],
 "metadata": {
  "kernelspec": {
   "display_name": "Python 3",
   "language": "python",
   "name": "python3"
  },
  "language_info": {
   "codemirror_mode": {
    "name": "ipython",
    "version": 3
   },
   "file_extension": ".py",
   "mimetype": "text/x-python",
   "name": "python",
   "nbconvert_exporter": "python",
   "pygments_lexer": "ipython3",
   "version": "3.7.4"
  }
 },
 "nbformat": 4,
 "nbformat_minor": 2
}
