{
 "cells": [
  {
   "cell_type": "markdown",
   "metadata": {},
   "source": [
    "The purpose of this notebook is to generate a spatial distributionn of demographic types on a grid."
   ]
  },
  {
   "cell_type": "markdown",
   "metadata": {},
   "source": [
    "# Imports"
   ]
  },
  {
   "cell_type": "code",
   "execution_count": 134,
   "metadata": {},
   "outputs": [],
   "source": [
    "import numpy as np\n",
    "import random as rand\n",
    "import matplotlib.pyplot as plt\n",
    "from scipy.stats import gamma\n",
    "from scipy.stats import multivariate_normal\n",
    "import seaborn as sns; sns.set()"
   ]
  },
  {
   "cell_type": "markdown",
   "metadata": {},
   "source": [
    "# Constants"
   ]
  },
  {
   "cell_type": "code",
   "execution_count": 48,
   "metadata": {},
   "outputs": [],
   "source": [
    "GRD = 10  # what are the dimensions of the symmetrical grid containing the buurten\n",
    "          # there will be GRD*GRD buurten as a result\n",
    "RES = 10  # what is the resolution in pixels of each grid cell\n",
    "NUM = 10  # how many higher level entities, wijken\n",
    "CLU = 7   # how many demographic clusters or latent types do we want?"
   ]
  },
  {
   "cell_type": "markdown",
   "metadata": {},
   "source": [
    "# Functional Requirements"
   ]
  },
  {
   "cell_type": "markdown",
   "metadata": {},
   "source": [
    "## Requirements"
   ]
  },
  {
   "cell_type": "markdown",
   "metadata": {},
   "source": [
    "These functions should collectively \n",
    "* return a grid, where each grid cell is assigned a particular cluster membership. \n",
    "* use all the cluster memberships available\n",
    "* the grid cells should be correlated so that the same cluster occupies proximal cells\n",
    "* visualize the grid\n"
   ]
  },
  {
   "cell_type": "markdown",
   "metadata": {},
   "source": [
    "## Functions"
   ]
  },
  {
   "cell_type": "code",
   "execution_count": 228,
   "metadata": {},
   "outputs": [],
   "source": [
    "# create a data structure which can store membership\n",
    "# each demographic type bids for districts, sharing \"responsibility\"\n",
    "def create_store():\n",
    "    dt = np.dtype(('<f8', (CLU,)))\n",
    "    sto = np.empty((GRD,GRD),dtype=dt)\n",
    "    return sto\n",
    "    \n",
    "# find the centre of the demographic type\n",
    "def get_centroid():\n",
    "    x = rand.randrange(GRD)\n",
    "    y = rand.randrange(GRD)\n",
    "    centroid = (x,y)\n",
    "    return (x,y)\n",
    "\n",
    "# find the active area of the demographic type\n",
    "def get_precision():\n",
    "    rv = gamma.rvs(10)/2\n",
    "    return rv\n",
    "\n",
    "def get_layer():\n",
    "    i, j = get_centroid()\n",
    "    p = get_precision()\n",
    "    x, y = np.mgrid[0:GRD:1, 0:GRD:1]\n",
    "    pos = np.dstack((x, y))\n",
    "    rv = multivariate_normal([i, j], [[p, 0.0], [0.0, p]])\n",
    "    layer = rv.pdf(pos)\n",
    "    w = sum(sum(layer))\n",
    "    layer = layer/w\n",
    "    return layer\n",
    "\n",
    "def add_layers():\n",
    "    L = np.empty((GRD,GRD,CLU))\n",
    "    for i in range(CLU):\n",
    "        l = get_layer()\n",
    "        L[:,:,i]=l\n",
    "    return L\n",
    "        \n",
    "def return_demo(L):\n",
    "    demo = np.empty((GRD,GRD))\n",
    "    for i in range(GRD):\n",
    "        for j in range(GRD):\n",
    "            H = L[i,j,:]\n",
    "            n= np.argmax(H)\n",
    "            demo[i,j]=n\n",
    "    return demo\n",
    "\n",
    "    \n"
   ]
  },
  {
   "cell_type": "markdown",
   "metadata": {},
   "source": [
    "# Intended Use"
   ]
  },
  {
   "cell_type": "code",
   "execution_count": 233,
   "metadata": {},
   "outputs": [
    {
     "name": "stdout",
     "output_type": "stream",
     "text": [
      "(10, 12)\n"
     ]
    },
    {
     "data": {
      "image/png": "[encoded data removed]",
      "text/plain": [
       "<Figure size 432x288 with 2 Axes>"
      ]
     },
     "metadata": {},
     "output_type": "display_data"
    }
   ],
   "source": [
    "L = add_layers()\n",
    "D = return_demo(L)\n",
    "ax = sns.heatmap(D)"
   ]
  },
  {
   "cell_type": "code",
   "execution_count": null,
   "metadata": {},
   "outputs": [],
   "source": []
  }
 ],
 "metadata": {
  "kernelspec": {
   "display_name": "Python 3",
   "language": "python",
   "name": "python3"
  },
  "language_info": {
   "codemirror_mode": {
    "name": "ipython",
    "version": 3
   },
   "file_extension": ".py",
   "mimetype": "text/x-python",
   "name": "python",
   "nbconvert_exporter": "python",
   "pygments_lexer": "ipython3",
   "version": "3.7.4"
  }
 },
 "nbformat": 4,
 "nbformat_minor": 2
}
